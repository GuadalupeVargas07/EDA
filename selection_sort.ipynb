{
  "nbformat": 4,
  "nbformat_minor": 0,
  "metadata": {
    "colab": {
      "provenance": [],
      "authorship_tag": "ABX9TyNp2VdpumqkM1Zw/OK+U7ON",
      "include_colab_link": true
    },
    "kernelspec": {
      "name": "python3",
      "display_name": "Python 3"
    },
    "language_info": {
      "name": "python"
    }
  },
  "cells": [
    {
      "cell_type": "markdown",
      "metadata": {
        "id": "view-in-github",
        "colab_type": "text"
      },
      "source": [
        "<a href=\"https://colab.research.google.com/github/GuadalupeVargas07/EDA/blob/main/selection_sort.ipynb\" target=\"_parent\"><img src=\"https://colab.research.google.com/assets/colab-badge.svg\" alt=\"Open In Colab\"/></a>"
      ]
    },
    {
      "cell_type": "code",
      "execution_count": 13,
      "metadata": {
        "colab": {
          "base_uri": "https://localhost:8080/"
        },
        "id": "yZxecYpLspg5",
        "outputId": "b80c9cd5-7447-455c-90eb-5e0b7f620dea"
      },
      "outputs": [
        {
          "output_type": "stream",
          "name": "stdout",
          "text": [
            "¿Cuántos números aleatorios quieres generar? 10\n",
            "\n",
            "Números generados:\n",
            "[324, 781, 100, 131, 97, 402, 977, 641, 341, 94]\n",
            "\n",
            "Ordenando los números generados con Selection Sort...\n",
            "\n",
            "Números ordenados:\n",
            "[94, 97, 100, 131, 324, 341, 402, 641, 781, 977]\n"
          ]
        }
      ],
      "source": [
        "import random\n",
        "\n",
        "# Método de ordenamiento Selection Sort\n",
        "def selection_sort(arr):\n",
        "    n = len(arr)\n",
        "    for i in range(n):\n",
        "        min_idx = i\n",
        "        for j in range(i + 1, n):\n",
        "            if arr[j] < arr[min_idx]:\n",
        "                min_idx = j\n",
        "        arr[i], arr[min_idx] = arr[min_idx], arr[i]  # Intercambio de elementos\n",
        "    return arr\n",
        "\n",
        "# Pregunta cuántos números aleatorios generar\n",
        "num_count = int(input(\"¿Cuántos números aleatorios quieres generar? \"))\n",
        "\n",
        "# Genera la cantidad especificada de números aleatorios\n",
        "random_numbers = [random.randint(1, 1000) for _ in range(num_count)]\n",
        "\n",
        "# Muestra los números generados\n",
        "print(\"\\nNúmeros generados:\")\n",
        "print(random_numbers[:100])  # Muestra los primeros 20 números generados (opcional)\n",
        "\n",
        "# Ordena la lista usando selection sort\n",
        "print(\"\\nOrdenando los números generados con Selection Sort...\")\n",
        "sorted_numbers = selection_sort(random_numbers)  # Aquí se aplica el método Selection Sort\n",
        "\n",
        "# Muestra los números ya ordenados\n",
        "print(\"\\nNúmeros ordenados:\")\n",
        "print(sorted_numbers[:100])  # Muestra los primeros 20 números ordenados (opcional)\n"
      ]
    }
  ]
}