{
  "nbformat": 4,
  "nbformat_minor": 0,
  "metadata": {
    "colab": {
      "provenance": [],
      "authorship_tag": "ABX9TyMyfFbHcAJ0/bDI905yKlga",
      "include_colab_link": true
    },
    "kernelspec": {
      "name": "python3",
      "display_name": "Python 3"
    },
    "language_info": {
      "name": "python"
    }
  },
  "cells": [
    {
      "cell_type": "markdown",
      "metadata": {
        "id": "view-in-github",
        "colab_type": "text"
      },
      "source": [
        "<a href=\"https://colab.research.google.com/github/GuadalupeVargas07/EDA/blob/main/quicksort.ipynb\" target=\"_parent\"><img src=\"https://colab.research.google.com/assets/colab-badge.svg\" alt=\"Open In Colab\"/></a>"
      ]
    },
    {
      "cell_type": "code",
      "execution_count": 13,
      "metadata": {
        "colab": {
          "base_uri": "https://localhost:8080/"
        },
        "id": "tKUnIee85jN5",
        "outputId": "2a3925b1-f154-4f49-a4d2-daae79046c79"
      },
      "outputs": [
        {
          "output_type": "stream",
          "name": "stdout",
          "text": [
            "¿Cuántos números aleatorios deseas generar? 20\n",
            "Lista de números aleatorios: [51, 38, 88, 63, 16, 78, 5, 43, 66, 91, 14, 70, 39, 45, 12, 98, 65, 83, 84, 80]\n",
            "---------------------------------------------------------------------------------------------------------------\n",
            "Lista ordenada con Quicksort: [5, 12, 14, 16, 38, 39, 43, 45, 51, 63, 65, 66, 70, 78, 80, 83, 84, 88, 91, 98]\n"
          ]
        }
      ],
      "source": [
        "import random\n",
        "\n",
        "def quicksort(arr):\n",
        "    if len(arr) < 2:\n",
        "        return arr\n",
        "    else:\n",
        "        pivot = arr[0]\n",
        "        less = [i for i in arr[1:] if i <= pivot]\n",
        "        greater = [i for i in arr[1:] if i > pivot]\n",
        "        return quicksort(less) + [pivot] + quicksort(greater)\n",
        "\n",
        "# Preguntar al usuario cuántos números aleatorios generar\n",
        "num_elements = int(input(\"¿Cuántos números aleatorios deseas generar? \"))\n",
        "\n",
        "# Generar una lista de números aleatorios\n",
        "random_numbers = [random.randint(1, 100) for _ in range(num_elements)]\n",
        "\n",
        "# Ordenar la lista usando quicksort\n",
        "sorted_numbers = quicksort(random_numbers)\n",
        "\n",
        "# Imprimir resultados\n",
        "print(\"Lista de números aleatorios:\", random_numbers)\n",
        "print(\"---------------------------------------------------------------------------------------------------------------\")\n",
        "print(\"Lista ordenada con Quicksort:\", sorted_numbers)\n",
        "\n"
      ]
    },
    {
      "cell_type": "code",
      "source": [],
      "metadata": {
        "id": "5-tICooM9Y39"
      },
      "execution_count": null,
      "outputs": []
    }
  ]
}