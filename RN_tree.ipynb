{
  "nbformat": 4,
  "nbformat_minor": 0,
  "metadata": {
    "colab": {
      "provenance": [],
      "authorship_tag": "ABX9TyPhNFla8qwuAw9KbMDfhys9",
      "include_colab_link": true
    },
    "kernelspec": {
      "name": "python3",
      "display_name": "Python 3"
    },
    "language_info": {
      "name": "python"
    }
  },
  "cells": [
    {
      "cell_type": "markdown",
      "metadata": {
        "id": "view-in-github",
        "colab_type": "text"
      },
      "source": [
        "<a href=\"https://colab.research.google.com/github/GuadalupeVargas07/EDA/blob/main/RN_tree.ipynb\" target=\"_parent\"><img src=\"https://colab.research.google.com/assets/colab-badge.svg\" alt=\"Open In Colab\"/></a>"
      ]
    },
    {
      "cell_type": "code",
      "execution_count": 1,
      "metadata": {
        "colab": {
          "base_uri": "https://localhost:8080/",
          "height": 73
        },
        "id": "GdO5wcpz68FU",
        "outputId": "9391f75f-f88d-4304-f342-48bb97d72ee9"
      },
      "outputs": [
        {
          "output_type": "stream",
          "name": "stdout",
          "text": [
            "Requirement already satisfied: graphviz in /usr/local/lib/python3.10/dist-packages (0.20.3)\n"
          ]
        },
        {
          "output_type": "execute_result",
          "data": {
            "text/plain": [
              "'arbol_rojo_negro.png'"
            ],
            "application/vnd.google.colaboratory.intrinsic+json": {
              "type": "string"
            }
          },
          "metadata": {},
          "execution_count": 1
        }
      ],
      "source": [
        "# Instalar graphviz si no está instalado\n",
        "!pip install graphviz\n",
        "\n",
        "from graphviz import Digraph\n",
        "\n",
        "ROJO = True\n",
        "NEGRO = False\n",
        "\n",
        "class Nodo:\n",
        "    def __init__(self, valor):\n",
        "        self.valor = valor\n",
        "        self.izquierda = None\n",
        "        self.derecha = None\n",
        "        self.padre = None\n",
        "        self.color = ROJO\n",
        "\n",
        "class ArbolRojoNegro:\n",
        "    def __init__(self):\n",
        "        self.NIL = Nodo(None)\n",
        "        self.NIL.color = NEGRO\n",
        "        self.raiz = self.NIL\n",
        "\n",
        "    def insertar(self, valor):\n",
        "        nuevo_nodo = Nodo(valor)\n",
        "        nuevo_nodo.izquierda = self.NIL\n",
        "        nuevo_nodo.derecha = self.NIL\n",
        "\n",
        "        y = None\n",
        "        x = self.raiz\n",
        "\n",
        "        while x != self.NIL:\n",
        "            y = x\n",
        "            if nuevo_nodo.valor < x.valor:\n",
        "                x = x.izquierda\n",
        "            else:\n",
        "                x = x.derecha\n",
        "\n",
        "        nuevo_nodo.padre = y\n",
        "        if y is None:\n",
        "            self.raiz = nuevo_nodo\n",
        "        elif nuevo_nodo.valor < y.valor:\n",
        "            y.izquierda = nuevo_nodo\n",
        "        else:\n",
        "            y.derecha = nuevo_nodo\n",
        "\n",
        "        self._arreglar_insercion(nuevo_nodo)\n",
        "\n",
        "    def _arreglar_insercion(self, k):\n",
        "        while k.padre and k.padre.color == ROJO:\n",
        "            if k.padre == k.padre.padre.izquierda:\n",
        "                y = k.padre.padre.derecha\n",
        "                if y and y.color == ROJO:\n",
        "                    k.padre.color = NEGRO\n",
        "                    y.color = NEGRO\n",
        "                    k.padre.padre.color = ROJO\n",
        "                    k = k.padre.padre\n",
        "                else:\n",
        "                    if k == k.padre.derecha:\n",
        "                        k = k.padre\n",
        "                        self._rotar_izquierda(k)\n",
        "                    k.padre.color = NEGRO\n",
        "                    k.padre.padre.color = ROJO\n",
        "                    self._rotar_derecha(k.padre.padre)\n",
        "            else:\n",
        "                y = k.padre.padre.izquierda\n",
        "                if y and y.color == ROJO:\n",
        "                    k.padre.color = NEGRO\n",
        "                    y.color = NEGRO\n",
        "                    k.padre.padre.color = ROJO\n",
        "                    k = k.padre.padre\n",
        "                else:\n",
        "                    if k == k.padre.izquierda:\n",
        "                        k = k.padre\n",
        "                        self._rotar_derecha(k)\n",
        "                    k.padre.color = NEGRO\n",
        "                    k.padre.padre.color = ROJO\n",
        "                    self._rotar_izquierda(k.padre.padre)\n",
        "            if k == self.raiz:\n",
        "                break\n",
        "        self.raiz.color = NEGRO\n",
        "\n",
        "    def _rotar_izquierda(self, x):\n",
        "        y = x.derecha\n",
        "        x.derecha = y.izquierda\n",
        "        if y.izquierda != self.NIL:\n",
        "            y.izquierda.padre = x\n",
        "        y.padre = x.padre\n",
        "        if x.padre is None:\n",
        "            self.raiz = y\n",
        "        elif x == x.padre.izquierda:\n",
        "            x.padre.izquierda = y\n",
        "        else:\n",
        "            x.padre.derecha = y\n",
        "        y.izquierda = x\n",
        "        x.padre = y\n",
        "\n",
        "    def _rotar_derecha(self, y):\n",
        "        x = y.izquierda\n",
        "        y.izquierda = x.derecha\n",
        "        if x.derecha != self.NIL:\n",
        "            x.derecha.padre = y\n",
        "        x.padre = y.padre\n",
        "        if y.padre is None:\n",
        "            self.raiz = x\n",
        "        elif y == y.padre.derecha:\n",
        "            y.padre.derecha = x\n",
        "        else:\n",
        "            y.padre.izquierda = x\n",
        "        x.derecha = y\n",
        "        y.padre = x\n",
        "\n",
        "    def visualizar(self):\n",
        "        dot = Digraph()\n",
        "        dot.attr(rankdir='TB')\n",
        "        self._visualizar_recursivo(self.raiz, dot)\n",
        "        return dot\n",
        "\n",
        "    def _visualizar_recursivo(self, nodo, dot):\n",
        "        if nodo != self.NIL:\n",
        "            color = \"red\" if nodo.color == ROJO else \"black\"\n",
        "            dot.node(str(id(nodo)), str(nodo.valor), style=\"filled\", fillcolor=color, fontcolor=\"white\")\n",
        "            if nodo.izquierda != self.NIL:\n",
        "                dot.edge(str(id(nodo)), str(id(nodo.izquierda)))\n",
        "                self._visualizar_recursivo(nodo.izquierda, dot)\n",
        "            if nodo.derecha != self.NIL:\n",
        "                dot.edge(str(id(nodo)), str(id(nodo.derecha)))\n",
        "                self._visualizar_recursivo(nodo.derecha, dot)\n",
        "\n",
        "# Ejemplo de uso\n",
        "arbol = ArbolRojoNegro()\n",
        "valores = [7, 3, 18, 10, 22, 8, 11, 26, 2, 6, 13]\n",
        "for valor in valores:\n",
        "    arbol.insertar(valor)\n",
        "\n",
        "# Visualizar el árbol\n",
        "dot = arbol.visualizar()\n",
        "dot.render('arbol_rojo_negro', view=True, format='png')\n"
      ]
    }
  ]
}