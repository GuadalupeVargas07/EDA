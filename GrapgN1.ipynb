{
  "nbformat": 4,
  "nbformat_minor": 0,
  "metadata": {
    "colab": {
      "provenance": [],
      "authorship_tag": "ABX9TyMjgUcRYQE93rQxp2cI4cCI",
      "include_colab_link": true
    },
    "kernelspec": {
      "name": "python3",
      "display_name": "Python 3"
    },
    "language_info": {
      "name": "python"
    }
  },
  "cells": [
    {
      "cell_type": "markdown",
      "metadata": {
        "id": "view-in-github",
        "colab_type": "text"
      },
      "source": [
        "<a href=\"https://colab.research.google.com/github/GuadalupeVargas07/EDA/blob/main/GrapgN1.ipynb\" target=\"_parent\"><img src=\"https://colab.research.google.com/assets/colab-badge.svg\" alt=\"Open In Colab\"/></a>"
      ]
    },
    {
      "cell_type": "code",
      "execution_count": 8,
      "metadata": {
        "colab": {
          "base_uri": "https://localhost:8080/"
        },
        "id": "ONhe3fjCgaQr",
        "outputId": "dbbefa74-858c-4472-8d94-c514393153de"
      },
      "outputs": [
        {
          "output_type": "stream",
          "name": "stdout",
          "text": [
            "Requirement already satisfied: graphviz in /usr/local/lib/python3.10/dist-packages (0.20.3)\n",
            "Matriz de adyacencia:\n",
            "[0, 1, 1, 0, 0]\n",
            "[1, 0, 0, 1, 0]\n",
            "[1, 0, 0, 0, 1]\n",
            "[0, 1, 0, 0, 1]\n",
            "[0, 0, 1, 1, 0]\n",
            "\n",
            "Lista de adyacencia:\n",
            "2: [7, 5]\n",
            "7: [2, 9]\n",
            "9: [7, 8]\n",
            "8: [9, 5]\n",
            "5: [8, 2]\n",
            "\n",
            "Matriz de adyacencia después de eliminar el vértice 1:\n",
            "[0, 1, 1, 0, 0]\n",
            "[1, 0, 0, 1, 0]\n",
            "[1, 0, 0, 0, 1]\n",
            "[0, 1, 0, 0, 1]\n",
            "[0, 0, 1, 1, 0]\n",
            "\n",
            "Lista de adyacencia después de eliminar el vértice 1:\n",
            "2: [7, 5]\n",
            "7: [2, 9]\n",
            "9: [7, 8]\n",
            "8: [9, 5]\n",
            "5: [8, 2]\n"
          ]
        }
      ],
      "source": [
        "!pip install graphviz\n",
        "\n",
        "import graphviz\n",
        "class Graph:\n",
        "    def __init__(self):\n",
        "        self.graph = {}\n",
        "\n",
        "    def add_vertex(self, vertex):\n",
        "        if vertex not in self.graph:\n",
        "            self.graph[vertex] = []\n",
        "\n",
        "    def add_edge(self, vertex1, vertex2):\n",
        "        if vertex1 in self.graph and vertex2 in self.graph:\n",
        "            if vertex2 not in self.graph[vertex1]:\n",
        "                self.graph[vertex1].append(vertex2)\n",
        "            if vertex1 not in self.graph[vertex2]:\n",
        "                self.graph[vertex2].append(vertex1)\n",
        "\n",
        "    def remove_vertex(self, vertex):\n",
        "        if vertex in self.graph:\n",
        "            del self.graph[vertex]\n",
        "            for v in self.graph:\n",
        "                if vertex in self.graph[v]:\n",
        "                    self.graph[v].remove(vertex)\n",
        "\n",
        "    def print_adjacency_list(self):\n",
        "        for vertex in self.graph:\n",
        "            print(f\"{vertex}: {self.graph[vertex]}\")\n",
        "\n",
        "    def print_adjacency_matrix(self):\n",
        "        vertices = sorted(self.graph.keys())\n",
        "        n = len(vertices)\n",
        "        matrix = [[0] * n for _ in range(n)]\n",
        "        for i, v1 in enumerate(vertices):\n",
        "            for j, v2 in enumerate(vertices):\n",
        "                if v2 in self.graph[v1]:\n",
        "                    matrix[i][j] = 1\n",
        "        for row in matrix:\n",
        "            print(row)\n",
        "\n",
        "    def generate_graphviz_image(self, filename=\"graph\"):\n",
        "        dot = graphviz.Graph(comment='Undirected Graph')\n",
        "        for vertex in self.graph:\n",
        "            dot.node(str(vertex))\n",
        "        for vertex in self.graph:\n",
        "            for neighbor in self.graph[vertex]:\n",
        "                if vertex < neighbor:  # Avoid adding edges twice\n",
        "                    dot.edge(str(vertex), str(neighbor))\n",
        "        dot.render(filename, format='png', view=True)\n",
        "\n",
        "\n",
        "# Example usage\n",
        "graph = Graph()\n",
        "\n",
        "graph.add_vertex(2)\n",
        "graph.add_vertex(7)\n",
        "graph.add_vertex(9)\n",
        "graph.add_vertex(8)\n",
        "graph.add_vertex(5)\n",
        "\n",
        "graph.add_edge(2, 7)\n",
        "graph.add_edge(7, 9)\n",
        "graph.add_edge(9, 8)\n",
        "graph.add_edge(8, 5)\n",
        "graph.add_edge(5, 2)\n",
        "\n",
        "print(\"Matriz de adyacencia:\")\n",
        "graph.print_adjacency_matrix()\n",
        "\n",
        "print(\"\\nLista de adyacencia:\")\n",
        "graph.print_adjacency_list()\n",
        "\n",
        "graph.generate_graphviz_image()\n",
        "\n",
        "graph.remove_vertex(1)\n",
        "\n",
        "print(\"\\nMatriz de adyacencia después de eliminar el vértice 1:\")\n",
        "graph.print_adjacency_matrix()\n",
        "\n",
        "print(\"\\nLista de adyacencia después de eliminar el vértice 1:\")\n",
        "graph.print_adjacency_list()\n",
        "\n",
        "graph.generate_graphviz_image(\"graph_after_removal.png\")"
      ]
    }
  ]
}