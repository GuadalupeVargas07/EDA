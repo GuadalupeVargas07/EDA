{
  "nbformat": 4,
  "nbformat_minor": 0,
  "metadata": {
    "colab": {
      "provenance": [],
      "authorship_tag": "ABX9TyP5PPpDaymKW52CWJurZTLS",
      "include_colab_link": true
    },
    "kernelspec": {
      "name": "python3",
      "display_name": "Python 3"
    },
    "language_info": {
      "name": "python"
    }
  },
  "cells": [
    {
      "cell_type": "markdown",
      "metadata": {
        "id": "view-in-github",
        "colab_type": "text"
      },
      "source": [
        "<a href=\"https://colab.research.google.com/github/GuadalupeVargas07/EDA/blob/main/AVL.ipynb\" target=\"_parent\"><img src=\"https://colab.research.google.com/assets/colab-badge.svg\" alt=\"Open In Colab\"/></a>"
      ]
    },
    {
      "cell_type": "code",
      "execution_count": 3,
      "metadata": {
        "colab": {
          "base_uri": "https://localhost:8080/",
          "height": 73
        },
        "id": "DwJJh6h8zluL",
        "outputId": "15c9ccab-512e-487c-c2b8-ff659edccf5d"
      },
      "outputs": [
        {
          "output_type": "stream",
          "name": "stdout",
          "text": [
            "Requirement already satisfied: graphviz in /usr/local/lib/python3.10/dist-packages (0.20.3)\n"
          ]
        },
        {
          "output_type": "execute_result",
          "data": {
            "text/plain": [
              "'arbol_binario.png'"
            ],
            "application/vnd.google.colaboratory.intrinsic+json": {
              "type": "string"
            }
          },
          "metadata": {},
          "execution_count": 3
        }
      ],
      "source": [
        "# Instalar graphviz si no está instalado\n",
        "!pip install graphviz\n",
        "\n",
        "from graphviz import Digraph\n",
        "\n",
        "class Nodo:\n",
        "    def __init__(self, valor):\n",
        "        self.valor = valor\n",
        "        self.izquierda = None\n",
        "        self.derecha = None\n",
        "\n",
        "class ArbolBinario:\n",
        "    def __init__(self):\n",
        "        self.raiz = None\n",
        "\n",
        "    def insertar(self, valor):\n",
        "        self.raiz = self._insertar_recursivo(self.raiz, valor)\n",
        "\n",
        "    def _insertar_recursivo(self, nodo, valor):\n",
        "        if nodo is None:\n",
        "            return Nodo(valor)\n",
        "\n",
        "        if valor < nodo.valor:\n",
        "            nodo.izquierda = self._insertar_recursivo(nodo.izquierda, valor)\n",
        "        else:\n",
        "            nodo.derecha = self._insertar_recursivo(nodo.derecha, valor)\n",
        "\n",
        "        return nodo\n",
        "\n",
        "    def visualizar(self):\n",
        "        dot = Digraph()\n",
        "        dot.attr(rankdir='TB')\n",
        "        self._visualizar_recursivo(self.raiz, dot)\n",
        "        return dot\n",
        "\n",
        "    def _visualizar_recursivo(self, nodo, dot):\n",
        "        if nodo:\n",
        "            dot.node(str(id(nodo)), str(nodo.valor))\n",
        "            if nodo.izquierda:\n",
        "                dot.edge(str(id(nodo)), str(id(nodo.izquierda)))\n",
        "                self._visualizar_recursivo(nodo.izquierda, dot)\n",
        "            if nodo.derecha:\n",
        "                dot.edge(str(id(nodo)), str(id(nodo.derecha)))\n",
        "                self._visualizar_recursivo(nodo.derecha, dot)\n",
        "\n",
        "# Ejemplo de uso\n",
        "arbol = ArbolBinario()\n",
        "valores = [6, 7, 9, 3, 8, 1, 4]\n",
        "for valor in valores:\n",
        "    arbol.insertar(valor)\n",
        "\n",
        "# Visualizar el árbol\n",
        "dot = arbol.visualizar()\n",
        "dot.render('arbol_binario', view=True, format='png')"
      ]
    }
  ]
}