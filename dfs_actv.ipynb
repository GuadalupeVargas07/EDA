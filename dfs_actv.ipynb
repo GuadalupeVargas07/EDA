{
  "nbformat": 4,
  "nbformat_minor": 0,
  "metadata": {
    "colab": {
      "provenance": [],
      "authorship_tag": "ABX9TyMug82BE/hYMnjhD5NkRxPo",
      "include_colab_link": true
    },
    "kernelspec": {
      "name": "python3",
      "display_name": "Python 3"
    },
    "language_info": {
      "name": "python"
    }
  },
  "cells": [
    {
      "cell_type": "markdown",
      "metadata": {
        "id": "view-in-github",
        "colab_type": "text"
      },
      "source": [
        "<a href=\"https://colab.research.google.com/github/GuadalupeVargas07/EDA/blob/main/dfs_actv.ipynb\" target=\"_parent\"><img src=\"https://colab.research.google.com/assets/colab-badge.svg\" alt=\"Open In Colab\"/></a>"
      ]
    },
    {
      "cell_type": "code",
      "execution_count": 2,
      "metadata": {
        "colab": {
          "base_uri": "https://localhost:8080/"
        },
        "id": "IAGyIPED9UGG",
        "outputId": "f84d37da-1e8a-49f1-f715-96ee524bf044"
      },
      "outputs": [
        {
          "output_type": "stream",
          "name": "stdout",
          "text": [
            "Adjacency Matrix:\n",
            "0 0 1 0 0 0 0 0 0\n",
            "0 0 1 0 1 0 0 0 0\n",
            "1 1 0 0 1 0 0 0 0\n",
            "0 0 0 0 0 0 0 0 1\n",
            "0 1 1 0 0 1 0 0 0\n",
            "0 0 0 0 1 0 1 0 1\n",
            "0 0 0 0 0 1 0 1 0\n",
            "0 0 0 0 0 0 1 0 1\n",
            "0 0 0 1 0 1 0 1 0\n",
            "\n",
            "Vertex Data:\n",
            "Vertex 0: A\n",
            "Vertex 1: B\n",
            "Vertex 2: C\n",
            "Vertex 3: D\n",
            "Vertex 4: E\n",
            "Vertex 5: F\n",
            "Vertex 6: G\n",
            "Vertex 7: H\n",
            "Vertex 8: I\n",
            "\n",
            "Shortest path from vertex A to D:\n",
            "Shortest path from A to D: A -> C -> E -> F -> I -> D\n"
          ]
        }
      ],
      "source": [
        "from collections import deque\n",
        "\n",
        "class Graph:\n",
        "    def __init__(self, size):\n",
        "        self.adj_matrix = [[0] * size for _ in range(size)]\n",
        "        self.size = size\n",
        "        self.vertex_data = [''] * size\n",
        "\n",
        "    def add_edge(self, u, v):\n",
        "        if 0 <= u < self.size and 0 <= v < self.size:\n",
        "            self.adj_matrix[u][v] = 1\n",
        "            self.adj_matrix[v][u] = 1\n",
        "\n",
        "    def add_vertex_data(self, vertex, data):\n",
        "        if 0 <= vertex < self.size:\n",
        "            self.vertex_data[vertex] = data\n",
        "\n",
        "    def print_graph(self):\n",
        "        print(\"Adjacency Matrix:\")\n",
        "        for row in self.adj_matrix:\n",
        "            print(' '.join(map(str, row)))\n",
        "        print(\"\\nVertex Data:\")\n",
        "        for vertex, data in enumerate(self.vertex_data):\n",
        "            print(f\"Vertex {vertex}: {data}\")\n",
        "\n",
        "    def bfs_shortest_path(self, start_vertex_data, end_vertex_data):\n",
        "        start_vertex = self.vertex_data.index(start_vertex_data)\n",
        "        end_vertex = self.vertex_data.index(end_vertex_data)\n",
        "\n",
        "        visited = [False] * self.size  # Para rastrear vértices visitados\n",
        "        parent = [-1] * self.size  # Para rastrear el camino\n",
        "\n",
        "        queue = deque([start_vertex])  # Usamos una cola para el BFS\n",
        "        visited[start_vertex] = True\n",
        "\n",
        "        # BFS loop\n",
        "        while queue:\n",
        "            current_vertex = queue.popleft()\n",
        "\n",
        "            # Si encontramos el destino, podemos reconstruir el camino\n",
        "            if current_vertex == end_vertex:\n",
        "                path = []\n",
        "                while current_vertex != -1:\n",
        "                    path.append(self.vertex_data[current_vertex])\n",
        "                    current_vertex = parent[current_vertex]\n",
        "                path.reverse()\n",
        "                print(f\"Shortest path from {start_vertex_data} to {end_vertex_data}: {' -> '.join(path)}\")\n",
        "                return\n",
        "\n",
        "            # Explorar los vecinos\n",
        "            for i in range(self.size):\n",
        "                if self.adj_matrix[current_vertex][i] == 1 and not visited[i]:\n",
        "                    queue.append(i)\n",
        "                    visited[i] = True\n",
        "                    parent[i] = current_vertex\n",
        "\n",
        "        # Si no hay camino, informar\n",
        "        print(f\"No path found from {start_vertex_data} to {end_vertex_data}\")\n",
        "\n",
        "g = Graph(9)\n",
        "\n",
        "g.add_vertex_data(0, 'A')\n",
        "g.add_vertex_data(1, 'B')\n",
        "g.add_vertex_data(2, 'C')\n",
        "g.add_vertex_data(3, 'D')\n",
        "g.add_vertex_data(4, 'E')\n",
        "g.add_vertex_data(5, 'F')\n",
        "g.add_vertex_data(6, 'G')\n",
        "g.add_vertex_data(7, 'H')\n",
        "g.add_vertex_data(8, 'I')\n",
        "\n",
        "g.add_edge(0, 2)  # A-C\n",
        "g.add_edge(2, 1)  # C-B\n",
        "g.add_edge(2, 4)  # C-E\n",
        "g.add_edge(1, 4)  # B-E\n",
        "g.add_edge(4, 5)  # E-F\n",
        "g.add_edge(5, 6)  # F-G\n",
        "g.add_edge(5, 8)  # F-I\n",
        "g.add_edge(6, 7)  # G-H\n",
        "g.add_edge(7, 8)  # H-I\n",
        "g.add_edge(8, 3)  # I-D\n",
        "\n",
        "g.print_graph()\n",
        "\n",
        "print(\"\\nShortest path from vertex A to D:\")\n",
        "g.bfs_shortest_path('A', 'D')\n"
      ]
    }
  ]
}